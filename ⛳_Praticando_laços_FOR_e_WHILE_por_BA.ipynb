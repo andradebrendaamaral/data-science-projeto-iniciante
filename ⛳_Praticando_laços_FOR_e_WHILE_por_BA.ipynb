{
  "nbformat": 4,
  "nbformat_minor": 0,
  "metadata": {
    "colab": {
      "provenance": [],
      "authorship_tag": "ABX9TyM5ze81C4j7JSRW309gkLJ7",
      "include_colab_link": true
    },
    "kernelspec": {
      "name": "python3",
      "display_name": "Python 3"
    },
    "language_info": {
      "name": "python"
    }
  },
  "cells": [
    {
      "cell_type": "markdown",
      "metadata": {
        "id": "view-in-github",
        "colab_type": "text"
      },
      "source": [
        "<a href=\"https://colab.research.google.com/github/andradebrendaamaral/data-science-projeto-iniciante/blob/main/%E2%9B%B3_Praticando_la%C3%A7os_FOR_e_WHILE_por_BA.ipynb\" target=\"_parent\"><img src=\"https://colab.research.google.com/assets/colab-badge.svg\" alt=\"Open In Colab\"/></a>"
      ]
    },
    {
      "cell_type": "markdown",
      "source": [
        "Ana está desenvolvendo um programa que precisa processar uma lista de 5 nomes de clientes para gerar relatórios mensais. Para isso, ela precisa escrever um programa que percorra a lista de nomes e exiba cada cliente.\n",
        "\n",
        "clientes = [\"João\", \"Maria\", \"Carlos\", \"Ana\", \"Beatriz\"]\n",
        "\n",
        "Ajude Ana a decidir entre usar um laço for ou while. Escreva o programa usando o laço que você acredita ser mais adequado para essa tarefa e explique por que escolheu esse laço."
      ],
      "metadata": {
        "id": "tPLok8Je1T5t"
      }
    },
    {
      "cell_type": "code",
      "source": [
        "clientes = [\"João\", \"Maria\", \"Carlos\", \"Ana\", \"Beatriz\"]\n",
        "print(\"Processando a lista de clientes com 'for':\")\n",
        "for nome in clientes:\n",
        "    print(f\"Gerando relatório para o cliente: {nome}\")"
      ],
      "metadata": {
        "colab": {
          "base_uri": "https://localhost:8080/"
        },
        "id": "iiU2_reI1MI9",
        "outputId": "2a3630db-ea6d-436e-eac2-23b8404f4cc0"
      },
      "execution_count": 1,
      "outputs": [
        {
          "output_type": "stream",
          "name": "stdout",
          "text": [
            "Processando a lista de clientes com 'for':\n",
            "Gerando relatório para o cliente: João\n",
            "Gerando relatório para o cliente: Maria\n",
            "Gerando relatório para o cliente: Carlos\n",
            "Gerando relatório para o cliente: Ana\n",
            "Gerando relatório para o cliente: Beatriz\n"
          ]
        }
      ]
    },
    {
      "cell_type": "markdown",
      "source": [
        "**JUSTIFICANDO A ESCOLHA:** *O laço for é o mais adequado por ser a estrutura nativa de Python para iterar diretamente sobre coleções como listas. Ele permite percorrer todos os elementos de clientes de forma concisa e legível, sem a necessidade de gerenciar um índice, inicializar contadores ou definir manualmente a condição de parada, como seria exigido pelo laço while.*\n",
        "\n",
        "**Conclusão para Ana:**\n",
        "\n",
        "* Use for quando souber quantas vezes precisa repetir (ouquando estiver percorrendo todos os itens de uma coleção).\n",
        "\n",
        "* Use while quando a repetição depender de uma condição ser verdadeira (por exemplo, \"repita enquanto o usuário não digitar 'sair'\", ou \"repita até que a variável atinja um certo valor desconhecido no início\")."
      ],
      "metadata": {
        "id": "msW0vJUY1q6D"
      }
    },
    {
      "cell_type": "markdown",
      "source": [
        "André está testando um novo recurso no backend do Buscante que processa dados em um loop. Durante os testes, ele percebeu que o sistema parou de responder, e suspeita que o problema está em um loop infinito. Qual é o problema do código de André e como resolver?\n"
      ],
      "metadata": {
        "id": "DgoU562P2L6C"
      }
    },
    {
      "cell_type": "markdown",
      "source": [
        "André está testando um novo recurso no backend do Buscante que processa dados em um loop. Durante os testes, ele percebeu que o sistema parou de responder, e suspeita que o problema está em um loop infinito.\n",
        "\n",
        "\n",
        "\n",
        "```\n",
        "# Looping infinito\n",
        "contador = 0\n",
        "while contador < 10:\n",
        "print(\"Processando dados...\")\n",
        "```\n",
        "\n",
        "\n",
        "\n",
        "Qual é o problema do código de André e como resolver?"
      ],
      "metadata": {
        "id": "BidY7VSO2z0h"
      }
    },
    {
      "cell_type": "code",
      "source": [
        "contador = 0\n",
        "\n",
        "while contador < 10:\n",
        "    print(f\"Processando dados... (Iteração {contador + 1})\")\n",
        "    contador = contador + 1\n",
        "\n",
        "print(\"Processamento de dados concluído.\")"
      ],
      "metadata": {
        "colab": {
          "base_uri": "https://localhost:8080/"
        },
        "id": "ne9ccuVu3sjp",
        "outputId": "c72992ef-b98f-41b9-c58c-041a2a9e448b"
      },
      "execution_count": 1,
      "outputs": [
        {
          "output_type": "stream",
          "name": "stdout",
          "text": [
            "Processando dados... (Iteração 1)\n",
            "Processando dados... (Iteração 2)\n",
            "Processando dados... (Iteração 3)\n",
            "Processando dados... (Iteração 4)\n",
            "Processando dados... (Iteração 5)\n",
            "Processando dados... (Iteração 6)\n",
            "Processando dados... (Iteração 7)\n",
            "Processando dados... (Iteração 8)\n",
            "Processando dados... (Iteração 9)\n",
            "Processando dados... (Iteração 10)\n",
            "Processamento de dados concluído.\n"
          ]
        }
      ]
    },
    {
      "cell_type": "markdown",
      "source": [
        "Marcos está desenvolvendo um programa para exibir uma mensagem de boas-vindas repetidamente no console, como parte de uma campanha de marketing de sua plataforma chamada Buscante. Ele quer garantir que a mensagem seja exibida 5 vezes.\n",
        "\n",
        "Ajude Marcos a escrever um programa que exiba a mensagem: \"Bem-vindo ao Buscante!\" o número exato de vezes que ele precisa."
      ],
      "metadata": {
        "id": "q4F8jhf84Abe"
      }
    },
    {
      "cell_type": "code",
      "source": [
        "for i in range(5):\n",
        "    print(\"Bem-vindo ao Buscante!\")"
      ],
      "metadata": {
        "colab": {
          "base_uri": "https://localhost:8080/"
        },
        "id": "MuBoQCf74LNX",
        "outputId": "c7fd2409-b84e-43e4-de44-5780b110e9bf"
      },
      "execution_count": 2,
      "outputs": [
        {
          "output_type": "stream",
          "name": "stdout",
          "text": [
            "Bem-vindo ao Buscante!\n",
            "Bem-vindo ao Buscante!\n",
            "Bem-vindo ao Buscante!\n",
            "Bem-vindo ao Buscante!\n",
            "Bem-vindo ao Buscante!\n"
          ]
        }
      ]
    },
    {
      "cell_type": "markdown",
      "source": [
        "Você está recebendo uma lista de valores representando os produtos de sua loja virtual e gostaria de calcular a soma total desses produtos para entender o desempenho financeiro semanal.\n",
        "\n",
        "```\n",
        "# Lista de valores dos produtos da loja\n",
        "valores = [10, 20, 30, 40, 50]\n",
        "```\n",
        "\n",
        "Crie um programa para implementar a soma."
      ],
      "metadata": {
        "id": "K4XtA8KC4SNt"
      }
    },
    {
      "cell_type": "code",
      "source": [
        "valores = [10, 20, 30, 40, 50]\n",
        "soma_total = sum(valores)\n",
        "print(f\"Lista de valores dos produtos: {valores}\")\n",
        "print(f\"O desempenho financeiro semanal (Soma Total) é: {soma_total}\")"
      ],
      "metadata": {
        "colab": {
          "base_uri": "https://localhost:8080/"
        },
        "id": "z6QFD7h64rt_",
        "outputId": "8387b709-1a36-4de8-de9c-25455cc54c02"
      },
      "execution_count": 3,
      "outputs": [
        {
          "output_type": "stream",
          "name": "stdout",
          "text": [
            "Lista de valores dos produtos: [10, 20, 30, 40, 50]\n",
            "O desempenho financeiro semanal (Soma Total) é: 150\n"
          ]
        }
      ]
    },
    {
      "cell_type": "markdown",
      "source": [
        "Ana está desenvolvendo seu portfólio para exibir os projetos de Python que concluiu. Ela organizou uma lista com o nome de cada projeto, mas percebeu que alguns itens podem estar ausentes, aparecendo como None:\n",
        "\n",
        "\n",
        "\n",
        "```\n",
        "# Lista de nomes dos projetos da Ana\n",
        "projetos = [\"website\", \"jogo\", \"análise de dados\", None, \"aplicativo móvel\"]\n",
        "```\n",
        "\n",
        "Crie um programa que ajude Ana a percorrer a lista de projetos e exiba os nomes dos projetos válidos. Se encontrar um item None, o programa deve exibir a mensagem: \"Projeto ausente\"."
      ],
      "metadata": {
        "id": "4EBbJWc142Jl"
      }
    },
    {
      "cell_type": "code",
      "source": [
        "projetos = [\"website\", \"jogo\", \"análise de dados\", None, \"aplicativo móvel\"]\n",
        "print(\"--- Portfólio de Projetos de Ana ---\")\n",
        "for nome_projeto in projetos:\n",
        "    if nome_projeto is not None:\n",
        "        print(f\"✅ {nome_projeto.capitalize()}\")\n",
        "    else:\n",
        "        print(\"❌ Projeto ausente\")\n",
        "print(\"------------------------------------\")"
      ],
      "metadata": {
        "colab": {
          "base_uri": "https://localhost:8080/"
        },
        "id": "OscfjKRx5Rkn",
        "outputId": "fdd8f9fa-4c3e-4a16-a459-96fb94eda60b"
      },
      "execution_count": 5,
      "outputs": [
        {
          "output_type": "stream",
          "name": "stdout",
          "text": [
            "--- Portfólio de Projetos de Ana ---\n",
            "✅ Website\n",
            "✅ Jogo\n",
            "✅ Análise de dados\n",
            "❌ Projeto ausente\n",
            "✅ Aplicativo móvel\n",
            "------------------------------------\n"
          ]
        }
      ]
    },
    {
      "cell_type": "markdown",
      "source": [
        "José está desenvolvendo uma funcionalidade no sistema do Buscante para interromper a busca assim que um livro específico é encontrado. A lista de livros já cadastrados no sistema é a seguinte:\n",
        "\n",
        "\n",
        "```\n",
        "# Lista de livros cadastrados\n",
        "livros = [\"1984\", \"Dom Casmurro\", \"O Pequeno Príncipe\", \"O Hobbit\", \"Orgulho e Preconceito\"]\n",
        "```\n",
        "\n",
        "\n",
        "Ajude José a criar um programa que percorra a lista e exiba a mensagem \"Livro encontrado: <nome do livro>\" assim que o livro \"O Hobbit\" for encontrado. Após encontrar o livro, o programa deve parar imediatamente a busca, sem verificar os livros restantes."
      ],
      "metadata": {
        "id": "1FPLQ1iQ5b8j"
      }
    },
    {
      "cell_type": "code",
      "source": [
        "livros = [\"1984\", \"Dom Casmurro\", \"O Pequeno Príncipe\", \"O Hobbit\", \"Orgulho e Preconceito\"]\n",
        "livro_alvo = \"O Hobbit\"\n",
        "\n",
        "print(f\"Iniciando a busca pelo livro '{livro_alvo}'...\")\n",
        "\n",
        "for livro in livros:\n",
        "    print(f\"Verificando: {livro}\")\n",
        "\n",
        "    if livro == livro_alvo:\n",
        "        print(f\"Livro encontrado: {livro}\")\n",
        "        break\n",
        "\n",
        "print(\"Busca finalizada.\")"
      ],
      "metadata": {
        "colab": {
          "base_uri": "https://localhost:8080/"
        },
        "id": "I6ZM5tqi59vL",
        "outputId": "aee3a404-6841-49e0-d0c6-bb433c74b6a8"
      },
      "execution_count": 9,
      "outputs": [
        {
          "output_type": "stream",
          "name": "stdout",
          "text": [
            "Iniciando a busca pelo livro 'O Hobbit'...\n",
            "Verificando: 1984\n",
            "Verificando: Dom Casmurro\n",
            "Verificando: O Pequeno Príncipe\n",
            "Verificando: O Hobbit\n",
            "Livro encontrado: O Hobbit\n",
            "Busca finalizada.\n"
          ]
        }
      ]
    },
    {
      "cell_type": "markdown",
      "source": [
        "Você está desenvolvendo um sistema de controle de estoque para o Buscante. Um dos requisitos é verificar a quantidade de exemplares de um livro em estoque e continuar vendendo até que o estoque se esgote. Sempre que uma venda é realizada, o sistema deve informar o usuário e atualizar a quantidade disponível.\n",
        "\n",
        "Crie um programa que simule as vendas de um livro com o estoque inicial de 5 exemplares. O programa deve exibir a mensagem \"Venda realizada! Estoque restante: <quantidade>\" a cada venda e, ao final, exibir a mensagem \"Estoque esgotado\"."
      ],
      "metadata": {
        "id": "G7G38Exz6RUL"
      }
    },
    {
      "cell_type": "code",
      "source": [
        "estoque_livro = 5\n",
        "print(\"--- Simulação de Vendas (Estoque Inicial: 5) ---\")\n",
        "while estoque_livro > 0:\n",
        "    estoque_livro -= 1\n",
        "    print(f\"Venda realizada! Estoque restante: {estoque_livro} exemplares.\")\n",
        "print(\"🚫 Estoque esgotado.\")"
      ],
      "metadata": {
        "colab": {
          "base_uri": "https://localhost:8080/"
        },
        "id": "FWG2xMji6Ytm",
        "outputId": "fac5ce2a-4f12-431b-d5c6-a055663e5d31"
      },
      "execution_count": 10,
      "outputs": [
        {
          "output_type": "stream",
          "name": "stdout",
          "text": [
            "--- Simulação de Vendas (Estoque Inicial: 5) ---\n",
            "Venda realizada! Estoque restante: 4 exemplares.\n",
            "Venda realizada! Estoque restante: 3 exemplares.\n",
            "Venda realizada! Estoque restante: 2 exemplares.\n",
            "Venda realizada! Estoque restante: 1 exemplares.\n",
            "Venda realizada! Estoque restante: 0 exemplares.\n",
            "🚫 Estoque esgotado.\n"
          ]
        }
      ]
    },
    {
      "cell_type": "markdown",
      "source": [
        "Aline está implementando uma funcionalidade que exibe mensagens personalizadas para os clientes durante uma promoção especial da sua nova loja de livros. O sistema deve exibir uma mensagem de contagem regressiva personalizada para cada número de 10 até 1, e ao final exibir a mensagem: \"Aproveite a promoção agora!\".\n",
        "\n",
        "Crie um programa que utilize um laço for para exibir as seguintes mensagens:\n",
        "\n",
        "Para números pares, exiba: \"Faltam apenas <número> segundos - Não perca essa oportunidade!\".\n",
        "Para números ímpares, exiba: \"A contagem continua: <número> segundos restantes.\".\n",
        "Ao final da contagem, exiba a mensagem: \"Aproveite a promoção agora!\"."
      ],
      "metadata": {
        "id": "e2Pmjrs36o5d"
      }
    },
    {
      "cell_type": "code",
      "source": [
        "print(\"--- Iniciando a Contagem Regressiva Buscante ---\")\n",
        "\n",
        "for numero in range(10, 0, -1):\n",
        "    if numero % 2 == 0:\n",
        "        print(f\"Faltam apenas {numero} segundos - Não perca essa oportunidade!\")\n",
        "    else:\n",
        "        print(f\"A contagem continua: {numero} segundos restantes.\")\n",
        "\n",
        "print(\"🔥 Aproveite a promoção agora!\")"
      ],
      "metadata": {
        "colab": {
          "base_uri": "https://localhost:8080/"
        },
        "id": "zfxBVqbS6sCu",
        "outputId": "1388ce1b-86e1-4c3c-d945-60ecba729913"
      },
      "execution_count": 13,
      "outputs": [
        {
          "output_type": "stream",
          "name": "stdout",
          "text": [
            "--- Iniciando a Contagem Regressiva Buscante ---\n",
            "Faltam apenas 10 segundos - Não perca essa oportunidade!\n",
            "A contagem continua: 9 segundos restantes.\n",
            "Faltam apenas 8 segundos - Não perca essa oportunidade!\n",
            "A contagem continua: 7 segundos restantes.\n",
            "Faltam apenas 6 segundos - Não perca essa oportunidade!\n",
            "A contagem continua: 5 segundos restantes.\n",
            "Faltam apenas 4 segundos - Não perca essa oportunidade!\n",
            "A contagem continua: 3 segundos restantes.\n",
            "Faltam apenas 2 segundos - Não perca essa oportunidade!\n",
            "A contagem continua: 1 segundos restantes.\n",
            "🔥 Aproveite a promoção agora!\n"
          ]
        }
      ]
    },
    {
      "cell_type": "markdown",
      "source": [
        "Ana está implementando um sistema de filtragem de livros no Buscante. A funcionalidade deve percorrer uma lista de livros e exibir o nome de cada livro disponível em estoque. No entanto, se o livro estiver esgotado, ele deve ser ignorado durante a iteração.\n",
        "\n",
        "\n",
        "\n",
        "```\n",
        "# Lista de livros\n",
        "livros = [\n",
        "    {\"nome\": \"1984\", \"estoque\": 5},\n",
        "    {\"nome\": \"Dom Casmurro\", \"estoque\": 0},\n",
        "    {\"nome\": \"O Pequeno Príncipe\", \"estoque\": 3},\n",
        "    {\"nome\": \"O Hobbit\", \"estoque\": 0},\n",
        "    {\"nome\": \"Orgulho e Preconceito\", \"estoque\": 2}\n",
        "]\n",
        "```\n",
        "\n",
        "Crie um programa que ajude Ana a exibir somente os livros que possuem estoque disponível, no formato: \"Livro disponível: \"."
      ],
      "metadata": {
        "id": "z9hcb_Fc67B3"
      }
    },
    {
      "cell_type": "code",
      "source": [
        "livros = [\n",
        "    {\"nome\": \"1984\", \"estoque\": 5},\n",
        "    {\"nome\": \"Dom Casmurro\", \"estoque\": 0},\n",
        "    {\"nome\": \"O Pequeno Príncipe\", \"estoque\": 3},\n",
        "    {\"nome\": \"O Hobbit\", \"estoque\": 0},\n",
        "    {\"nome\": \"Orgulho e Preconceito\", \"estoque\": 2}\n",
        "]\n",
        "print(\"--- Livros Disponíveis em Estoque---\")\n",
        "for livro in livros:\n",
        "    if livro[\"estoque\"] > 0:\n",
        "      print(f\"Livro disponível: {livro['nome']} (Unidades em estoque: {livro['estoque']})\")"
      ],
      "metadata": {
        "colab": {
          "base_uri": "https://localhost:8080/"
        },
        "id": "BlsG_-EX7Rvn",
        "outputId": "4f9a884b-6e48-4318-dd35-d64521348f68"
      },
      "execution_count": 16,
      "outputs": [
        {
          "output_type": "stream",
          "name": "stdout",
          "text": [
            "--- Livros Disponíveis em Estoque---\n",
            "Livro disponível: 1984 (Unidades em estoque: 5)\n",
            "Livro disponível: O Pequeno Príncipe (Unidades em estoque: 3)\n",
            "Livro disponível: Orgulho e Preconceito (Unidades em estoque: 2)\n"
          ]
        }
      ]
    },
    {
      "cell_type": "markdown",
      "source": [
        "João está desenvolvendo um sistema de cadastro para um site de leitura. Ele precisa garantir que os usuários insiram um nome de usuário e uma senha válidos. As regras são as seguintes:\n",
        "\n",
        "* O nome de usuário deve ter pelo menos 5 caracteres.\n",
        "* A senha deve ter pelo menos 8 caracteres.\n",
        "* João quer que o sistema continue solicitando as informações até que ambas as condições sejam atendidas.\n",
        "* Quando o usuário insere dados válidos, o programa deve exibir a mensagem: \"Cadastro realizado com sucesso!\".\n",
        "\n",
        "Crie um programa que implemente essa lógica usando um laço while."
      ],
      "metadata": {
        "id": "m4PGgSfm7s_c"
      }
    },
    {
      "cell_type": "code",
      "source": [
        "nome_usuario = \"\"\n",
        "senha = \"\"\n",
        "\n",
        "print(\"--- Sistema de Cadastro Buscante ---\")\n",
        "\n",
        "while not (len(nome_usuario) >= 5 and len(senha) >= 8):\n",
        "    nome_usuario = input(\"Insira seu nome de usuário (mínimo 5 caracteres): \")\n",
        "    senha = input(\"Insira sua senha (mínimo 8 caracteres): \")\n",
        "    if len(nome_usuario) < 5:\n",
        "        print(\"🚨 Erro: Nome de usuário deve ter pelo menos 5 caracteres.\")\n",
        "    if len(senha) < 8:\n",
        "        print(\"🚨 Erro: A senha deve ter pelo menos 8 caracteres.\")\n",
        "    if not (len(nome_usuario) >= 5 and len(senha) >= 8):\n",
        "        print(\"-\" * 30)\n",
        "\n",
        "print(\"\\n✅ Cadastro realizado com sucesso!\")\n",
        "print(f\"Usuário: {nome_usuario}\")"
      ],
      "metadata": {
        "colab": {
          "base_uri": "https://localhost:8080/"
        },
        "id": "6L3wmWcl74Xh",
        "outputId": "bc82dba9-48fa-4759-aa9c-d3de8d2b2fb4"
      },
      "execution_count": 17,
      "outputs": [
        {
          "output_type": "stream",
          "name": "stdout",
          "text": [
            "--- Sistema de Cadastro Buscante ---\n",
            "Insira seu nome de usuário (mínimo 5 caracteres): andradebrendaamaral\n",
            "Insira sua senha (mínimo 8 caracteres): jfuTnvYY84736&*\n",
            "\n",
            "✅ Cadastro realizado com sucesso!\n",
            "Usuário: andradebrendaamaral\n"
          ]
        }
      ]
    }
  ]
}