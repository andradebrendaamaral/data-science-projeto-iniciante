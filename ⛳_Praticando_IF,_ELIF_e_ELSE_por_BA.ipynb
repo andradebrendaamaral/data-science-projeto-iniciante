{
  "nbformat": 4,
  "nbformat_minor": 0,
  "metadata": {
    "colab": {
      "provenance": [],
      "authorship_tag": "ABX9TyPHIW/7lsxEG1TGDwlVlCmp",
      "include_colab_link": true
    },
    "kernelspec": {
      "name": "python3",
      "display_name": "Python 3"
    },
    "language_info": {
      "name": "python"
    }
  },
  "cells": [
    {
      "cell_type": "markdown",
      "metadata": {
        "id": "view-in-github",
        "colab_type": "text"
      },
      "source": [
        "<a href=\"https://colab.research.google.com/github/andradebrendaamaral/data-science-projeto-iniciante/blob/main/%E2%9B%B3_Praticando_IF%2C_ELIF_e_ELSE_por_BA.ipynb\" target=\"_parent\"><img src=\"https://colab.research.google.com/assets/colab-badge.svg\" alt=\"Open In Colab\"/></a>"
      ]
    },
    {
      "cell_type": "markdown",
      "source": [
        "# ⛳ Praticando IF, ELIF e ELSE"
      ],
      "metadata": {
        "id": "Uea6-ivaR_zF"
      }
    },
    {
      "cell_type": "markdown",
      "source": [
        "Bruno gerencia um pequeno comércio e quer saber qual produto teve o melhor desempenho de vendas no mês passado. Ele registrou a quantidade vendida de dois produtos: maçãs e bananas. Agora, ele precisa escrever um programa que identifique e exiba qual deles teve maior venda.\n",
        "\n",
        "Crie um programa que receba o número de vendas dos dois produtos e exiba uma mensagem indicando qual deles vendeu mais. Se as quantidades forem iguais, exiba uma mensagem dizendo que houve empate."
      ],
      "metadata": {
        "id": "M6oMtrhbR5yL"
      }
    },
    {
      "cell_type": "code",
      "execution_count": 2,
      "metadata": {
        "colab": {
          "base_uri": "https://localhost:8080/"
        },
        "id": "08b77FzOR37Y",
        "outputId": "2955a26a-1309-452e-90d5-c2547c5c9330"
      },
      "outputs": [
        {
          "output_type": "stream",
          "name": "stdout",
          "text": [
            "Digite o número de vendas de maçãs no mês passado: 2222\n",
            "Digite o número de vendas de bananas no mês passado: 2222\n",
            "Houve um empate nas vendas de maçãs e bananas!\n",
            "Ambos venderam 2222 unidades.\n"
          ]
        }
      ],
      "source": [
        "vendas_macas = int(input(\"Digite o número de vendas de maçãs no mês passado: \"))\n",
        "vendas_bananas = int(input(\"Digite o número de vendas de bananas no mês passado: \"))\n",
        "if vendas_macas > vendas_bananas:\n",
        "  print(f\"As maçãs tiveram o melhor desempenho de vendas!\")\n",
        "  print(f\"Maçãs: {vendas_macas} unidades | Bananas: {vendas_bananas} unidades\")\n",
        "elif vendas_bananas > vendas_macas:\n",
        "  print(f\"As bananas tiveram o melhor desempenho de vendas!\")\n",
        "  print(f\"Bananas: {vendas_bananas} unidades | Maçãs: {vendas_macas} unidades\")\n",
        "else:\n",
        "  print(f\"Houve um empate nas vendas de maçãs e bananas!\")\n",
        "  print(f\"Ambos venderam {vendas_macas} unidades.\")"
      ]
    },
    {
      "cell_type": "markdown",
      "source": [
        "Camila está organizando um projeto e precisa calcular o tempo total necessário para concluir três atividades: A, B e C. No entanto, se alguma atividade tiver um número de dias negativo, o código deve avisar que os valores inseridos são inválidos e não calcular o total.\n",
        "\n",
        "Escreva um programa que receba o número de dias de três atividades e exiba o tempo total do projeto. Se algum valor for negativo, mostre uma mensagem informando o erro."
      ],
      "metadata": {
        "id": "22NeHYcGTm5c"
      }
    },
    {
      "cell_type": "code",
      "source": [
        "dias_atividade_a = int(input(\"Digite o número de dias para a Atividade A: \"))\n",
        "dias_atividade_b = int(input(\"Digite o número de dias para a Atividade B: \"))\n",
        "dias_atividade_c = int(input(\"Digite o número de dias para a Atividade C: \"))\n",
        "\n",
        "if dias_atividade_a < 0 or dias_atividade_b < 0 or dias_atividade_c < 0:\n",
        "  print(f\"ERRO: Valores de entrada inválidos!\")\n",
        "  print(f\"O número de dias para uma atividade não pode ser negativo. Por favor, insira valores válidos.\")\n",
        "elif dias_atividade_a > 0 and dias_atividade_b > 0 and dias_atividade_c > 0:\n",
        "  tempo_total = dias_atividade_a + dias_atividade_b + dias_atividade_c\n",
        "  print(\"Cálculo Concluído!\")\n",
        "  print(f\"O tempo total necessário para o projeto (A + B + C) é de **{tempo_total} dias**.\")\n",
        "else:\n",
        "  print(f\"ERRO de Entrada: Por favor, digite apenas números inteiros para os dias.\")"
      ],
      "metadata": {
        "colab": {
          "base_uri": "https://localhost:8080/"
        },
        "id": "brdFx26pTou4",
        "outputId": "96c199b6-0d42-4ba3-ea9c-e6a4b8efa8b7"
      },
      "execution_count": 5,
      "outputs": [
        {
          "output_type": "stream",
          "name": "stdout",
          "text": [
            "Digite o número de dias para a Atividade A: 5\n",
            "Digite o número de dias para a Atividade B: 5\n",
            "Digite o número de dias para a Atividade C: 5\n",
            "\n",
            "✅ Cálculo Concluído!\n",
            "O tempo total necessário para o projeto (A + B + C) é de **15 dias**.\n"
          ]
        }
      ]
    },
    {
      "cell_type": "markdown",
      "source": [
        "Lucas trabalha em TI e precisa garantir que a temperatura de uma sala de servidores não ultrapasse 25°C. Ele quer um programa que receba a temperatura atual como entrada e, se necessário, exiba uma mensagem de alerta."
      ],
      "metadata": {
        "id": "yw390w-TUvl0"
      }
    },
    {
      "cell_type": "code",
      "source": [
        "LIMITE_TEMPERATURA = 25\n",
        "temperatura_atual = float(input(\"Digite a temperatura atual da sala de servidores (em °C): \"))\n",
        "if temperatura_atual > LIMITE_TEMPERATURA:\n",
        "  print(\"\\n🚨🚨 ALERTA DE TEMPERATURA 🚨🚨\")\n",
        "  print(f\"A temperatura atual é de {temperatura_atual:.1f}°C.\")\n",
        "  print(f\"O limite de segurança de {LIMITE_TEMPERATURA}°C foi ultrapassado. É necessário resfriamento imediato!\")\n",
        "elif temperatura_atual < LIMITE_TEMPERATURA:\n",
        "  print(\"\\n✅ Status: OK\")\n",
        "  print(f\"A temperatura atual é de {temperatura_atual:.1f}°C, o que está abaixo do limite de {LIMITE_TEMPERATURA}°C.\")\n",
        "  print(\"A sala de servidores está em condições seguras.\")\n",
        "else:\n",
        "  print(\"\\n⚠️ ERRO de Entrada: Por favor, digite apenas números para a temperatura.\")"
      ],
      "metadata": {
        "colab": {
          "base_uri": "https://localhost:8080/"
        },
        "id": "qn2Q6_j5Uw41",
        "outputId": "cc631b5e-8012-4964-c5e3-e48e51898e45"
      },
      "execution_count": 7,
      "outputs": [
        {
          "output_type": "stream",
          "name": "stdout",
          "text": [
            "Digite a temperatura atual da sala de servidores (em °C): 27\n",
            "\n",
            "🚨🚨 ALERTA DE TEMPERATURA 🚨🚨\n",
            "A temperatura atual é de 27.0°C.\n",
            "O limite de segurança de 25°C foi ultrapassado. É necessário resfriamento imediato!\n"
          ]
        }
      ]
    },
    {
      "cell_type": "markdown",
      "source": [
        "Anna Júlia está criando um sistema para calcular o Índice de Massa Corporal (IMC) e fornecer recomendações básicas. O programa deve receber o peso e a altura de uma pessoa e exibir o valor do IMC, além de indicar se está abaixo do peso, com peso normal ou acima do peso. Crie um programa que receba o peso (em kg) e a altura (em metros) e calcule o IMC usando a fórmula: IMC = peso / (altura ^ 2) Depois, exiba o valor do IMC e uma mensagem indicando se está abaixo do peso (IMC < 18.5), peso normal (18.5 <= IMC < 25) ou acima do peso (IMC >= 25)."
      ],
      "metadata": {
        "id": "nrkmLaT4VX8D"
      }
    },
    {
      "cell_type": "code",
      "source": [
        "peso = float(input(\"Digite o peso em quilogramas (ex: 70.5): \"))\n",
        "altura = float(input(\"Digite a altura em metros (ex: 1.75): \"))\n",
        "\n",
        "if peso <= 0 or altura <= 0:\n",
        "  print(\"\\n❌ ERRO: Peso e altura devem ser valores positivos e maiores que zero.\")\n",
        "elif peso > 0 and altura > 0:\n",
        "  imc = peso / (altura ** 2)\n",
        "  print(f\"\\nSeu Índice de Massa Corporal (IMC) é: {imc:.2f}\")\n",
        "  print(\"\\n➡️ Classificação:\")\n",
        "\n",
        "  if imc < 18.5:\n",
        "      print(\"Você está Abaixo do Peso.\")\n",
        "  elif imc < 25:\n",
        "      print(\"Você está com o Peso Normal (saudável).\")\n",
        "  else:\n",
        "      print(\"Você está Acima do Peso.\")\n",
        "\n",
        "else:\n",
        "    print(\"\\n⚠️ ERRO de Entrada: Por favor, digite apenas números para peso e altura.\")"
      ],
      "metadata": {
        "colab": {
          "base_uri": "https://localhost:8080/"
        },
        "id": "gYgYnH6pVspU",
        "outputId": "549a0627-a4b9-4c6f-fc39-7a0673116efc"
      },
      "execution_count": 9,
      "outputs": [
        {
          "output_type": "stream",
          "name": "stdout",
          "text": [
            "Digite o peso em quilogramas (ex: 70.5): 120\n",
            "Digite a altura em metros (ex: 1.75): 1.81\n",
            "\n",
            "Seu Índice de Massa Corporal (IMC) é: 36.63\n",
            "\n",
            "➡️ Classificação:\n",
            "Você está Acima do Peso.\n"
          ]
        }
      ]
    },
    {
      "cell_type": "markdown",
      "source": [
        "Carlos quer monitorar seu orçamento mensal para evitar gastos excessivos. Ele estabeleceu um limite de R$ 3.000,00 para seus gastos e precisa de um programa que ajude a controlar suas despesas. O programa deve receber o total de despesas realizadas e informar se ele ultrapassou o limite ou ainda está dentro do orçamento."
      ],
      "metadata": {
        "id": "ww7G6Aw9W9RK"
      }
    },
    {
      "cell_type": "code",
      "source": [
        "LIMITE_ORCAMENTO = 3000.00\n",
        "despesas_totais = float(input(\"Digite o total de despesas realizadas neste mês (em R$): \"))\n",
        "print(\"\\n--- Resultado da Análise ---\")\n",
        "if despesas_totais > LIMITE_ORCAMENTO:\n",
        "   excedente = despesas_totais - LIMITE_ORCAMENTO\n",
        "   print(\"🛑 ALERTA: LIMITE DE ORÇAMENTO ULTRAPASSADO!\")\n",
        "   print(f\"O total gasto foi de R$ {despesas_totais:,.2f}.\")\n",
        "   print(f\"Você excedeu o limite em R$ {excedente:,.2f}.\")\n",
        "elif despesas_totais < LIMITE_ORCAMENTO:\n",
        "  restante = LIMITE_ORCAMENTO - despesas_totais\n",
        "  print(\"✅ Status: Dentro do Orçamento\")\n",
        "  print(f\"O total gasto foi de R$ {despesas_totais:,.2f}.\")\n",
        "  print(f\"Você ainda tem R$ {restante:,.2f} disponíveis no orçamento de R$ {LIMITE_ORCAMENTO:,.2f}.\")\n",
        "else:\n",
        "  print(\"\\n⚠️ ERRO de Entrada: Por favor, digite apenas o valor numérico das despesas.\")"
      ],
      "metadata": {
        "colab": {
          "base_uri": "https://localhost:8080/"
        },
        "id": "vb5jufUnXO6w",
        "outputId": "376e9409-a51a-4d1d-aab8-13e863875867"
      },
      "execution_count": 10,
      "outputs": [
        {
          "output_type": "stream",
          "name": "stdout",
          "text": [
            "Digite o total de despesas realizadas neste mês (em R$): 2947.49\n",
            "\n",
            "--- Resultado da Análise ---\n",
            "✅ Status: Dentro do Orçamento\n",
            "O total gasto foi de R$ 2,947.49.\n",
            "Você ainda tem R$ 52.51 disponíveis no orçamento de R$ 3,000.00.\n"
          ]
        }
      ]
    },
    {
      "cell_type": "markdown",
      "source": [
        "Mariana é responsável por liberar o acesso ao escritório e precisa de um programa que verifique se os funcionários podem entrar. Para isso, ela usará o horário atual. O escritório só permite acesso entre 8h e 18h. Crie um programa que receba a hora atual como entrada (em formato de 24 horas) e exiba uma mensagem informando se o acesso é permitido ou negado."
      ],
      "metadata": {
        "id": "IGI6i0R0Xxnk"
      }
    },
    {
      "cell_type": "code",
      "source": [
        "try:\n",
        "    hora_atual = int(input(\"Por favor, digite a hora atual (formato 24h, apenas o número da hora): \"))\n",
        "except ValueError:\n",
        "    print(\"Entrada inválida. Por favor, digite apenas um número inteiro para a hora.\")\n",
        "    exit()\n",
        "if hora_atual < 0 or hora_atual > 23:\n",
        "    print(\"🚫 ERRO: A hora digitada é inválida (deve estar entre 0 e 23).\")\n",
        "elif hora_atual >= 8 and hora_atual < 18:\n",
        "    print(\"✅ ACESSO PERMITIDO. O horário de funcionamento é entre 8h e 18h.\")\n",
        "else:\n",
        "    print(\"❌ ACESSO NEGADO. O escritório só permite entrada entre 8h e 18h.\")"
      ],
      "metadata": {
        "colab": {
          "base_uri": "https://localhost:8080/"
        },
        "id": "kJ69iqdoYX3O",
        "outputId": "1edf8236-7d0f-4129-d8bb-5d3217c38572"
      },
      "execution_count": 14,
      "outputs": [
        {
          "output_type": "stream",
          "name": "stdout",
          "text": [
            "Por favor, digite a hora atual (formato 24h, apenas o número da hora): 17\n",
            "✅ ACESSO PERMITIDO. O horário de funcionamento é entre 8h e 18h.\n"
          ]
        }
      ]
    },
    {
      "cell_type": "markdown",
      "source": [
        "Uma professora precisa de um programa que ajude a calcular a média final dos alunos e informe se foram aprovados, ficaram de recuperação ou reprovados. As regras são:\n",
        "\n",
        "* Média >= 7: Aprovado\n",
        "\n",
        "* 5 <= Média < 7: Recuperação\n",
        "\n",
        "* Média < 5: Reprovado\n",
        "\n",
        "Escreva um programa que receba três notas como entrada e calcule a média final. Com base na média, exiba a situação do aluno."
      ],
      "metadata": {
        "id": "he0czZ7qd4eq"
      }
    },
    {
      "cell_type": "code",
      "source": [
        "nota1 = float(input(\"Digite a primeira nota: \"))\n",
        "nota2 = float(input(\"Digite a segunda nota: \"))\n",
        "nota3 = float(input(\"Digite a terceira nota: \"))\n",
        "media = (nota1 + nota2 + nota3) / 3\n",
        "print(f\"\\nSua média final é: {media:.2f}\")\n",
        "if media >= 7:\n",
        "  print(\"SITUAÇÃO: Aprovado!\")\n",
        "elif media >= 5 and media < 7:\n",
        "  print(\"SITUAÇÃO: Recuperação.\")\n",
        "else:\n",
        "  print(\"SITUAÇÃO: Reprovado.\")"
      ],
      "metadata": {
        "colab": {
          "base_uri": "https://localhost:8080/"
        },
        "id": "sgcpix1xeCka",
        "outputId": "0eddb994-ca03-4859-aed7-f36a2d11c65f"
      },
      "execution_count": 16,
      "outputs": [
        {
          "output_type": "stream",
          "name": "stdout",
          "text": [
            "Digite a primeira nota: 9\n",
            "Digite a segunda nota: 5.5\n",
            "Digite a terceira nota: 7\n",
            "\n",
            "Sua média final é: 7.17\n",
            "SITUAÇÃO: Aprovado!\n"
          ]
        }
      ]
    },
    {
      "cell_type": "markdown",
      "source": [
        "Fernanda está planejando uma viagem e quer calcular quanto pagará de pedágio. O valor do pedágio depende da distância percorrida:\n",
        "\n",
        "* Até 100 km: R$ 10,00\n",
        "\n",
        "* Entre 100 km e 200 km: R$ 20,00\n",
        "\n",
        "* Acima de 200 km: R$ 30,00\n",
        "\n",
        "Crie um programa que receba a distância percorrida e informe o valor do pedágio correspondente."
      ],
      "metadata": {
        "id": "fe8uBOdTfIng"
      }
    },
    {
      "cell_type": "code",
      "source": [
        "distancia_km = float(input(\"Digite a distância percorrida em km: \"))\n",
        "if distancia_km < 0:\n",
        "  print(\"❌ ERRO: A distância percorrida não pode ser negativa.\")\n",
        "  exit()\n",
        "valor_pedagio = 0\n",
        "if distancia_km <= 100:\n",
        "   valor_pedagio = 10.00\n",
        "elif distancia_km > 100 and distancia_km <= 200:\n",
        "     valor_pedagio = 20.00\n",
        "else:\n",
        "    valor_pedagio = 30.00\n",
        "print(\"\\n--- Resultado do Cálculo do Pedágio ---\")\n",
        "print(f\"Distância percorrida: {distancia_km:.2f} km\")\n",
        "print(f\"💰 Valor do Pedágio: R$ {valor_pedagio:.2f}\")"
      ],
      "metadata": {
        "colab": {
          "base_uri": "https://localhost:8080/"
        },
        "id": "-HkH7T9pfPxl",
        "outputId": "b7706d98-7597-4a3b-99b0-dad2b0a38077"
      },
      "execution_count": 17,
      "outputs": [
        {
          "output_type": "stream",
          "name": "stdout",
          "text": [
            "Digite a distância percorrida em km: 39204\n",
            "\n",
            "--- Resultado do Cálculo do Pedágio ---\n",
            "Distância percorrida: 39204.00 km\n",
            "💰 Valor do Pedágio: R$ 30.00\n"
          ]
        }
      ]
    },
    {
      "cell_type": "markdown",
      "source": [
        "Lucas está desenvolvendo um jogo e precisa de uma funcionalidade que verifique se um número é par ou ímpar. Essa verificação será usada para definir ações diferentes dentro do jogo. Escreva um programa que receba um número inteiro e exiba uma mensagem informando se ele é par ou ímpar."
      ],
      "metadata": {
        "id": "koM2QbPjfx-h"
      }
    },
    {
      "cell_type": "code",
      "source": [
        "numero = int(input(\"Digite um número inteiro: \"))\n",
        "if numero < 0:\n",
        "    print(\"❌ ERRO: Por favor, digite apenas um número inteiro válido.\")\n",
        "    exit()\n",
        "if numero % 2 == 0:\n",
        "    print(f\"\\nO número {numero} é PAR.\")\n",
        "else:\n",
        "    print(f\"\\nO número {numero} é ÍMPAR.\")"
      ],
      "metadata": {
        "colab": {
          "base_uri": "https://localhost:8080/"
        },
        "id": "6gbLXU1_xcpa",
        "outputId": "22b3f69d-d7f0-4faf-f378-15c53dfdfc7c"
      },
      "execution_count": 18,
      "outputs": [
        {
          "output_type": "stream",
          "name": "stdout",
          "text": [
            "Digite um número inteiro: 5\n",
            "\n",
            "O número 5 é ÍMPAR.\n"
          ]
        }
      ]
    },
    {
      "cell_type": "markdown",
      "source": [
        "Pedro quer solicitar um empréstimo, mas a aprovação depende de duas condições:\n",
        "\n",
        "O valor da renda mensal precisa ser maior que R$ 2.000,00.\n",
        "O valor da parcela não pode ultrapassar 30% da renda.\n",
        "Crie um programa que receba como entrada a renda mensal de Pedro e o valor da parcela desejada. O programa deve informar se o empréstimo foi aprovado ou negado com base nas condições acima."
      ],
      "metadata": {
        "id": "35UFsxJ0xz8s"
      }
    },
    {
      "cell_type": "code",
      "source": [
        "renda_mensal = float(input(\"Digite o valor da renda mensal (R$): \"))\n",
        "valor_parcela = float(input(\"Digite o valor da parcela desejada (R$): \"))\n",
        "if renda_mensal <= 0 or valor_parcela <= 0:\n",
        "  print(\"❌ ERRO: Renda e parcela devem ser valores positivos.\")\n",
        "exit()\n",
        "limite_parcela = renda_mensal * 0.30\n",
        "condicao_renda = renda_mensal > 2000.00\n",
        "condicao_parcela = valor_parcela <= limite_parcela\n",
        "\n",
        "print(\"\\n--- Análise de Crédito ---\")\n",
        "print(f\"Renda Mensal: R$ {renda_mensal:.2f}\")\n",
        "print(f\"Parcela Desejada: R$ {valor_parcela:.2f}\")\n",
        "print(f\"Limite Máximo da Parcela (30% da renda): R$ {limite_parcela:.2f}\")\n",
        "\n",
        "if condicao_renda and condicao_parcela:\n",
        "    print(\"\\n✅ EMPRÉSTIMO APROVADO! Ambas as condições foram atendidas.\")\n",
        "else:\n",
        "    # Se alguma das condições (ou ambas) for FALSA, o empréstimo é negado.\n",
        "    print(\"\\n❌ EMPRÉSTIMO NEGADO.\")\n",
        "    if not condicao_renda:\n",
        "        print(\"   - Motivo: A renda mensal é inferior a R$ 2.000,00.\")\n",
        "    if not condicao_parcela:\n",
        "        print(f\"   - Motivo: O valor da parcela (R$ {valor_parcela:.2f}) ultrapassa 30% da renda (R$ {limite_parcela:.2f}).\")"
      ],
      "metadata": {
        "colab": {
          "base_uri": "https://localhost:8080/"
        },
        "id": "q78lwHETx6ym",
        "outputId": "e7af872c-0f70-4e2d-a6f0-d5d732adff79"
      },
      "execution_count": 1,
      "outputs": [
        {
          "output_type": "stream",
          "name": "stdout",
          "text": [
            "Digite o valor da renda mensal (R$): 17000\n",
            "Digite o valor da parcela desejada (R$): 857\n",
            "\n",
            "--- Análise de Crédito ---\n",
            "Renda Mensal: R$ 17000.00\n",
            "Parcela Desejada: R$ 857.00\n",
            "Limite Máximo da Parcela (30% da renda): R$ 5100.00\n",
            "\n",
            "✅ EMPRÉSTIMO APROVADO! Ambas as condições foram atendidas.\n"
          ]
        }
      ]
    }
  ]
}